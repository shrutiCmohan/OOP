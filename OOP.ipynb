{
  "nbformat": 4,
  "nbformat_minor": 0,
  "metadata": {
    "colab": {
      "provenance": []
    },
    "kernelspec": {
      "name": "python3",
      "display_name": "Python 3"
    },
    "language_info": {
      "name": "python"
    }
  },
  "cells": [
    {
      "cell_type": "code",
      "execution_count": null,
      "metadata": {
        "id": "69QJ2-Lyg2ta"
      },
      "outputs": [],
      "source": []
    },
    {
      "cell_type": "markdown",
      "source": [
        "#Theory Questions"
      ],
      "metadata": {
        "id": "JBmAaH_vhA_N"
      }
    },
    {
      "cell_type": "markdown",
      "source": [
        "1. What is Object-Oriented Programming (OOP)?\n",
        "     - Object-oriented programming (OOP) is a programming model based on the concept of objects and classes which can help create software programmes, and includes basic principles like inheritance, encapsulation, polymorphism and abstraction.\n",
        "\n",
        "2. What is a class in OOP?\n",
        "    - In object-oriented programming, a class is a template definition of the methods and variables in a particular kind of object.\n",
        "    - A class is a user-defined data type. It consists of data members and member functions, which can be accessed and used by creating an instance of that class. It represents the set of properties or methods that are common to all objects of one type. A class is like a blueprint for an object.\n",
        "\n",
        "3. What is an object in OOP?\n",
        "    - It is a basic unit of Object-Oriented Programming and represents the real-life entities. An Object is an instance of a Class. When a class is defined, no memory is allocated but when it is instantiated memory is allocated. An object has an identity, state, and behavior.\n",
        "    - Each object contains data and code to manipulate the data. Objects can interact without having to know details of each other’s data or code, it is sufficient to know the type of message accepted and type of response returned by the objects.\n",
        "\n",
        "4. What is the difference between abstraction and encapsulation?\n",
        "     - Abstraction =\n",
        "          Simplifies the design of a system by focusing on what an object does. For example, a car's steering wheel and pedals abstract the complex driving mechanisms.\n",
        "     - Encapsulation =\n",
        "          Protects data and functions within an object by hiding their internal details. For example, a car's engine internal components are encapsulated, hidden under the hood.\n",
        "\n",
        "5. What are dunder methods in Python?\n",
        "     - Python Magic methods are the methods starting and ending with double underscores '__'. They are defined by built-in classes in Python and commonly used for operator overloading. They are also called Dunder methods, Dunder here means “Double Underscore\".\n",
        "     - some Dunder methods =\n",
        "     __new__: To get called in an object's instantiation.\n",
        "     __init__: To get called by the __new__ method.\n",
        "\n",
        "6.  Explain the concept of inheritance in OOP.\n",
        "     - Inheritance is a mechanism that allows a class to inherit properties and behaviors from another class.\n",
        "     - It is a fundamental concept in OOP that promotes code reuse and establishes relationships between classes.\n",
        "     - Inheritance in oops is based on a hierarchical relationship between classes, where a derived class inherits the characteristics of a base class.\n",
        "     -  The derived class extends the functionality of the base class by adding new features or overriding existing ones.\n",
        "\n",
        "7. What is polymorphism in OOP?\n",
        "     - Polymorphism means existing in many forms. Variables, functions, and objects can exist in multiple forms in Python.\n",
        "     - There are two types of polymorphism which are run time polymorphism and compile-time polymorphism. Run time can take a different form while the application is running and compile-time can take a different form during compilation.\n",
        "\n",
        "8. How is encapsulation achieved in Python?\n",
        "    - Encapsulation means binding data and variables inside a class.Encapsulation involves wrapping up the data, like code elements, into a single unit. Encapsulation also ensures that objects of a class can function independently.\n",
        "    - Encapsulation is used with abstraction to define the level of access you want to give a user. For example, When you log in to check your mails on Gmail, you enter your password for logging. The password is then encrypted and verified, and access is granted on successful verification.But being a user, you don’t know how your password is being verified in the backend, keeping your account safe. This is one of the many actual cases of how Encapsulation is used in the industry.\n",
        "\n",
        "9. What is a constructor in Python?\n",
        "    - A constructor in Python is a special method called when an object is created. Its purpose is to assign values to the data members within the class when an object is initialized.\n",
        "    - The purpose of the constructor is to construct an object and assign a value to the object’s members.\n",
        "\n",
        "10. What are class and static methods in Python?\n",
        "    - Class method =\n",
        "        - The @classmethod decorator is a built-in function decorator that is an expression that gets evaluated after your function is defined. A class method is a method that is bound to the class and not the object of the class.\n",
        "        - It can modify a class state that would apply across all the instances of the class. For example, it can modify a class variable that will be applicable to all the instances.\n",
        "    - Static method =\n",
        "         - A static method does not receive an implicit first argument. A static method is also a method that is bound to the class and not the object of the class.\n",
        "         - This method can’t access or modify the class state. It is present in a class because it makes sense for the method to be present in class.\n",
        "\n",
        "11. What is method overloading in Python?\n",
        "     - Method Overloading in python is a method or operator that can do different functionalities with the same name.\n",
        "     - It reduces complexities, improves the quality of the code and is also used for reusability and easy accessibility.\n",
        "\n",
        "12.  What is method overriding in OOP?\n",
        "     - Overriding is a feature that allows a subclass or child class to provide a specific implementation of a method that is already provided by one of its super-classes or parent classes.\n",
        "     - Method Overriding means that the code comprises of two or more methods with the same name but each of them has a special task and that to differ from each other.\n",
        "\n",
        "13. What is a property decorator in Python?\n",
        "    - @property decorator is a built-in decorator in Python which is helpful in defining the properties effortlessly without manually calling the inbuilt function property().\n",
        "    - Which is used to return the property attributes of a class from the stated getter, setter and deleter as parameters.\n",
        "\n",
        "14. Why is polymorphism important in OOP?\n",
        "    - Polymorphism in programming gives a program the ability to redefine methods for derived classes.\n",
        "    - Polymorphism lets programmers perform a single action in various ways and define multiple forms of a single object, variable or method.\n",
        "    -  It also improves the readability and scalability of code since old code can be reused and built upon as required after it is written, confirmed and executed.\n",
        "    - Reusing code also saves significant programming time and helps to speed up development.\n",
        "\n",
        "15. What is an abstract class in Python?\n",
        "    - Abstract classes are classes that contain one or more abstract methods. An abstract method is a method that is declared, but contains no implementation. Abstract classes cannot be instantiated, and require subclasses to provide implementations for the abstract methods.\n",
        "\n",
        "16. What are the advantages of OOP?\n",
        "    - Advantages of OOP =\n",
        "       - 1. Re-usability = It means reusing some facilities rather than building them again and again. This is done with the use of a class.\n",
        "       - 2. Data Redundancy =  If a user wants a similar functionality in multiple classes, he/she can go ahead by writing common class definitions for similar functionalities and inherit them.\n",
        "       - 3. Code Maintenance =  it helps users from doing re-work in many ways. It is always easy and time-saving to maintain and modify the existing codes by incorporating new changes into them.\n",
        "       - 4. Security = With the use of data hiding and abstraction mechanism, we are filtering out limited data to exposure, which means we are maintaining security and providing necessary data to view.\n",
        "\n",
        "17. What is the difference between a class variable and an instance variable?\n",
        "    - Class variables =\n",
        "        - Class variables also known as static variables are declared with the static keyword in a class, but outside a method, constructor or a block.\n",
        "        - This can be accessed by calling with the class name ClassName.VariableName.\n",
        "        - There would only be one copy of each class variable per class, regardless of how many objects are created from it.\n",
        "    - Instant variable =\n",
        "        - Instance variables are declared in a class, but outside a method, constructor or any block.\n",
        "        - Instance variables are created when an object is created with the use of the keyword 'new' and destroyed when the object is destroyed.\n",
        "        - Instance variables hold values that must be referenced by more than one method, constructor or block, or essential parts of an object's state that must be present throughout the class.\n",
        "\n",
        "18. What is multiple inheritance in Python?\n",
        "      - When a class is derived from more than one base class it is called multiple Inheritance. The derived class inherits all the features of the base case.\n",
        "\n",
        "19. Explain the purpose of '__str__' and '__repr__' methods in Python.\n",
        "     - __str__() method =\n",
        "         - The __str__() method returns a human-readable, or informal, string representation of an object. This method is called by the built-in print(), str(), and format() functions. If you don't define a __str__() method for a class, then the built-in object implementation calls the __repr__() method instead.\n",
        "      - __repr__() method =\n",
        "         - The __repr__() method returns a more information-rich, or official, string representation of an object. This method is called by the built-in repr() function.\n",
        "\n",
        "20. What is the significance of the ‘super()’ function in Python?\n",
        "     - The super() function is used to give access to methods and properties of a parent or sibling class. In Python, the super function is utilized to obtain access to immediate parent class methods.\n",
        "     - In Python, super() is a built-in function that allows access to methods and properties of a parent or superclass from a child or subclass.\n",
        "     - This is useful when working with inheritance in object-oriented programming. It enables a subclass to inherit behaviour and attributes from its parent class while also providing the flexibility to override or extend that behaviour in the subclass.\n",
        "\n",
        "21. What is the significance of the __del__ method in Python?\n",
        "    - The del keyword is used to delete objects. Every variable, function, data structure, a user-defined object created by the programmer in Python can be deleted using del function.\n",
        "\n",
        "22. What is the difference between @staticmethod and @classmethod in Python?\n",
        "    - Class method =\n",
        "        - The @classmethod decorator is a built-in function decorator that is an expression that gets evaluated after your function is defined. A class method is a method that is bound to the class and not the object of the class.\n",
        "        - It can modify a class state that would apply across all the instances of the class. For example, it can modify a class variable that will be applicable to all the instances.\n",
        "    -  Static method =\n",
        "         - A static method does not receive an implicit first argument. A static method is also a method that is bound to the class and not the object of the class.\n",
        "         - This method can’t access or modify the class state. It is present in a class because it makes sense for the method to be present in class.\n",
        "\n",
        "23. How does polymorphism work in Python with inheritance?\n",
        "    -  Polymorphism allows objects to be treated as a single type of object, even if they are of different types. This means that a single set of code can handle any object, even if the objects are of different types.\n",
        "    -  Inheritance permits a class to be characterized in terms of another class, which makes it simpler to make and keep up an application.\n",
        "\n",
        "24. What is method chaining in Python OOP?\n",
        "    - Method chaining allows us to call multiple methods on an object in a single, continuous line of code. This approach makes the code cleaner, more readable, and often easier to maintain.\n",
        "    - Method chaining refers to calling multiple methods sequentially on the same object in a single expression.\n",
        "  \n",
        "25. What is the purpose of the __call__ method in Python?\n",
        "    - The __call__ method is part of Python build-in methods also called dunder or magic methods because have two prefixes and suffix underscores in the method name.\n",
        "  "
      ],
      "metadata": {
        "id": "ffrpwdldhWbW"
      }
    },
    {
      "cell_type": "markdown",
      "source": [
        "# Practical Questions"
      ],
      "metadata": {
        "id": "Im0ATBYxLM2O"
      }
    },
    {
      "cell_type": "code",
      "source": [
        "#1. Create a parent class Animal with a method speak() that prints a generic message. Create a child class Dog that overrides the speak() method to print \"Bark!\".\n",
        "class Animal:\n",
        "    def speak(self):\n",
        "        print(\"This is Animal\")\n",
        "\n",
        "class Dog(Animal):\n",
        "    def speak(self):\n",
        "        print(\"Bark!\")\n",
        "a = Animal()\n",
        "d = Dog()\n",
        "a.speak()\n",
        "d.speak()"
      ],
      "metadata": {
        "colab": {
          "base_uri": "https://localhost:8080/"
        },
        "id": "eG1HGuPJLWO1",
        "outputId": "69a4b8aa-41b1-42c4-c6bf-275ae3c74dc8"
      },
      "execution_count": 1,
      "outputs": [
        {
          "output_type": "stream",
          "name": "stdout",
          "text": [
            "This is Animal\n",
            "Bark!\n"
          ]
        }
      ]
    },
    {
      "cell_type": "code",
      "source": [
        "#2. Write a program to create an abstract class Shape with a method area(). Derive classes Circle and Rectangle from it and implement the area() method in both.\n",
        "from abc import ABC, abstractmethod\n",
        "class Shape(ABC):\n",
        "    @abstractmethod\n",
        "    def area(self):\n",
        "        pass\n",
        "class Circle(Shape):\n",
        "    def area(self, r):\n",
        "        return 3.14*r*r\n",
        "class Rectangle(Shape):\n",
        "    def area(self, l, b):\n",
        "        return l*b\n",
        "c = Circle()\n",
        "r = Rectangle()\n",
        "print(c.area(6))\n",
        "print(r.area(6, 5))"
      ],
      "metadata": {
        "colab": {
          "base_uri": "https://localhost:8080/"
        },
        "id": "VHH4xC-8NBcX",
        "outputId": "8837467c-e5ca-4821-8c32-4836b0545df5"
      },
      "execution_count": 3,
      "outputs": [
        {
          "output_type": "stream",
          "name": "stdout",
          "text": [
            "113.03999999999999\n",
            "30\n"
          ]
        }
      ]
    },
    {
      "cell_type": "code",
      "source": [
        "#3.  Implement a multi-level inheritance scenario where a class Vehicle has an attribute type. Derive a class Car and further derive a class ElectricCar that adds a battery attribute.\n",
        "class Vehicle:\n",
        "    def __init__(self, type):\n",
        "        self.type = type\n",
        "        print(\"This is \", type)\n",
        "class Car(Vehicle):\n",
        "    def __init__(self, type, model):\n",
        "        super().__init__(type)\n",
        "        self.model = model\n",
        "        print(\"This is \", model, \"of \", type)\n",
        "class ElectricCar(Car):\n",
        "    def __init__(self, type, model, battery):\n",
        "        super().__init__(type, model)\n",
        "        self.battery = battery\n",
        "        print(\"this is \", type, \"of \", model, battery )\n",
        "c1= Car(\"Hondai\", \"i10\")\n",
        "c2 = ElectricCar(\"Electric battery\", \"Tesla\", \"Electric car\")\n",
        "c1. type\n",
        "c2.battery\n",
        "\n"
      ],
      "metadata": {
        "colab": {
          "base_uri": "https://localhost:8080/",
          "height": 122
        },
        "id": "Pl0RHcM3NnZ6",
        "outputId": "3da896fe-94c9-4f58-f301-086695332815"
      },
      "execution_count": 12,
      "outputs": [
        {
          "output_type": "stream",
          "name": "stdout",
          "text": [
            "This is  Hondai\n",
            "This is  i10 of  Hondai\n",
            "This is  Electric battery\n",
            "This is  Tesla of  Electric battery\n",
            "this is  Electric battery of  Tesla Electric car\n"
          ]
        },
        {
          "output_type": "execute_result",
          "data": {
            "text/plain": [
              "'Electric car'"
            ],
            "application/vnd.google.colaboratory.intrinsic+json": {
              "type": "string"
            }
          },
          "metadata": {},
          "execution_count": 12
        }
      ]
    },
    {
      "cell_type": "code",
      "source": [
        "#4.  Implement a multi-level inheritance scenario where a class Vehicle has an attribute type. Derive a class Car and further derive a class ElectricCar that adds a battery attribute.\n",
        "class Vehicle:\n",
        "    def __init__(self, type):\n",
        "        self.type = type\n",
        "        print(\"This is \", type)\n",
        "class Car(Vehicle):\n",
        "    def __init__(self, type, model):\n",
        "        super().__init__(type)\n",
        "        self.model = model\n",
        "        print(\"This is \", model, \"of \", type)\n",
        "class ElectricCar(Car):\n",
        "    def __init__(self, type, model, battery):\n",
        "        super().__init__(type, model)\n",
        "        self.battery = battery\n",
        "        print(\"this is \", type, \"of \", model, battery )\n",
        "c1= Car(\"Hondai\", \"i10\")\n",
        "c2 = ElectricCar(\"Electric battery\", \"Tesla\", \"Electric car\")\n",
        "c1. type\n",
        "c2.battery"
      ],
      "metadata": {
        "colab": {
          "base_uri": "https://localhost:8080/",
          "height": 122
        },
        "id": "2UP8x66VSLNe",
        "outputId": "eca6b728-5827-40b5-8580-b9ab5e46dde9"
      },
      "execution_count": 13,
      "outputs": [
        {
          "output_type": "stream",
          "name": "stdout",
          "text": [
            "This is  Hondai\n",
            "This is  i10 of  Hondai\n",
            "This is  Electric battery\n",
            "This is  Tesla of  Electric battery\n",
            "this is  Electric battery of  Tesla Electric car\n"
          ]
        },
        {
          "output_type": "execute_result",
          "data": {
            "text/plain": [
              "'Electric car'"
            ],
            "application/vnd.google.colaboratory.intrinsic+json": {
              "type": "string"
            }
          },
          "metadata": {},
          "execution_count": 13
        }
      ]
    },
    {
      "cell_type": "code",
      "source": [
        "#5. Write a program to demonstrate encapsulation by creating a class BankAccount with private attributes balance and methods to deposit, withdraw, and check balance.\n",
        "class BankAccount:\n",
        "    def __init__(self, balance):\n",
        "        self.__balance = balance\n",
        "    def deposit(self, amount):\n",
        "        self.__balance += amount\n",
        "    def withdraw(self, amount):\n",
        "        if amount > self.__balance:\n",
        "            print(\"Insufficient balance\")\n",
        "            return\n",
        "        self.__balance -= amount\n",
        "    def check_balance(self):\n",
        "        return self.__balance\n",
        "acc1= BankAccount(1000)\n",
        "print(acc1.check_balance())\n",
        "acc1.deposit(1000)\n",
        "print(acc1.check_balance())\n",
        "acc1.withdraw(500)\n",
        "print(acc1.check_balance())"
      ],
      "metadata": {
        "colab": {
          "base_uri": "https://localhost:8080/"
        },
        "id": "U8sbLVY_Sqow",
        "outputId": "f2aa3232-7d23-41b5-a900-a9311b96e1f7"
      },
      "execution_count": 14,
      "outputs": [
        {
          "output_type": "stream",
          "name": "stdout",
          "text": [
            "1000\n",
            "2000\n",
            "1500\n"
          ]
        }
      ]
    },
    {
      "cell_type": "code",
      "source": [
        "#6.Demonstrate runtime polymorphism using a method play() in a base class Instrument. Derive classes Guitar and Piano that implement their own version of play().\n",
        "class Instrument:\n",
        "    def play(self):\n",
        "        print(\"This is Instrument\")\n",
        "class Guitar(Instrument):\n",
        "    def play(self):\n",
        "        print(\"This is Guitar\")\n",
        "class Piano(Instrument):\n",
        "    def play(self):\n",
        "        print(\"This is Piano\")\n",
        "i = Instrument()\n",
        "g = Guitar()\n",
        "p = Piano()\n",
        "i.play()\n",
        "g.play()\n",
        "p.play()\n"
      ],
      "metadata": {
        "colab": {
          "base_uri": "https://localhost:8080/"
        },
        "id": "O89adJrNTovI",
        "outputId": "0bfcc5be-4b5c-49d3-9e7c-7a6210c1c3e6"
      },
      "execution_count": 15,
      "outputs": [
        {
          "output_type": "stream",
          "name": "stdout",
          "text": [
            "This is Instrument\n",
            "This is Guitar\n",
            "This is Piano\n"
          ]
        }
      ]
    },
    {
      "cell_type": "code",
      "source": [
        "#7. Create a class MathOperations with a class method add_numbers() to add two numbers and a static method subtract_numbers() to subtract two numbers.\n",
        "class MathOperations:\n",
        "    @classmethod\n",
        "    def add_numbers(cls, a, b):\n",
        "        return a+b\n",
        "    @staticmethod\n",
        "    def subtract_numbers(c, d):\n",
        "        return c-d\n",
        "print(MathOperations.add_numbers(5, 6))\n",
        "print(MathOperations.subtract_numbers(11, 8))"
      ],
      "metadata": {
        "colab": {
          "base_uri": "https://localhost:8080/"
        },
        "id": "vbEALwdBULI6",
        "outputId": "78e09e23-f3ce-460a-d116-9fa513b46540"
      },
      "execution_count": 17,
      "outputs": [
        {
          "output_type": "stream",
          "name": "stdout",
          "text": [
            "11\n",
            "3\n"
          ]
        }
      ]
    },
    {
      "cell_type": "code",
      "source": [
        "#8.Implement a class Person with a class method to count the total number of persons created.\n",
        "class Person:\n",
        "    count = 0\n",
        "    def __init__(self, name):\n",
        "        self.name = name\n",
        "        Person.count += 1\n",
        "p1= Person(\"Ram\")\n",
        "p2 = Person(\"Shyam\")\n",
        "print(Person.count)"
      ],
      "metadata": {
        "colab": {
          "base_uri": "https://localhost:8080/"
        },
        "id": "WIh9ikbWUpCn",
        "outputId": "be11b81b-0175-4233-dae7-21edbdf17239"
      },
      "execution_count": 18,
      "outputs": [
        {
          "output_type": "stream",
          "name": "stdout",
          "text": [
            "2\n"
          ]
        }
      ]
    },
    {
      "cell_type": "code",
      "source": [
        "#9. Write a class Fraction with attributes numerator and denominator. Override the str method to display the fraction as \"numerator/denominator\".\n",
        "class Fraction():\n",
        "    def __init__(self, numerator, denominator):\n",
        "        self.numerator = numerator\n",
        "        self.denominator = denominator\n",
        "    def __str__(self):\n",
        "        return f\"{self.numerator}/{self.denominator}\"\n",
        "f1 = Fraction(5, 6)\n",
        "print(f1)\n",
        "\n"
      ],
      "metadata": {
        "colab": {
          "base_uri": "https://localhost:8080/"
        },
        "id": "d82UIihFVJfg",
        "outputId": "b22a1675-650e-44b6-d706-dae5286b7cbd"
      },
      "execution_count": 19,
      "outputs": [
        {
          "output_type": "stream",
          "name": "stdout",
          "text": [
            "5/6\n"
          ]
        }
      ]
    },
    {
      "cell_type": "code",
      "source": [
        "#10. Demonstrate operator overloading by creating a class Vector and overriding the add method to add two vectors.\n",
        "class Vector:\n",
        "    def __init__(self, x, y):\n",
        "        self.x = x\n",
        "        self.y = y\n",
        "    def __add__(self, other):\n",
        "        return Vector(self.x + other.x, self.y + other.y)\n",
        "v1= Vector(1, 2)\n",
        "v2 = Vector(3, 4)\n",
        "v3 = v1 + v2\n",
        "print(v3.x, v3.y)"
      ],
      "metadata": {
        "colab": {
          "base_uri": "https://localhost:8080/"
        },
        "id": "FW9XOv3SVjRh",
        "outputId": "027280de-49fe-4347-8664-3758a5f489cf"
      },
      "execution_count": 20,
      "outputs": [
        {
          "output_type": "stream",
          "name": "stdout",
          "text": [
            "4 6\n"
          ]
        }
      ]
    },
    {
      "cell_type": "code",
      "source": [
        "#11. Create a class Person with attributes name and age. Add a method greet() that prints \"Hello, my name is {name} and I am {age} years old.\n",
        "class Person:\n",
        "    def __init__(self, name, age):\n",
        "        self.name = name\n",
        "        self.age = age\n",
        "    def greet(self):\n",
        "        print(f\"Hello, my name is {self.name} and I am {self.age} years old.\")\n",
        "p= Person(\"Rekha\", 70)\n",
        "p.greet()"
      ],
      "metadata": {
        "colab": {
          "base_uri": "https://localhost:8080/"
        },
        "id": "18gxoG1QWAb1",
        "outputId": "6a6e6f71-362d-4c31-9edf-260eb01e9fd0"
      },
      "execution_count": 22,
      "outputs": [
        {
          "output_type": "stream",
          "name": "stdout",
          "text": [
            "Hello, my name is Rekha and I am 70 years old.\n"
          ]
        }
      ]
    },
    {
      "cell_type": "code",
      "source": [
        "#12. Implement a class Student with attributes name and grades. Create a method average_grade() to compute the average of the grades.\n",
        "class Student:\n",
        "    def __init__(self, name, grades):\n",
        "        self.name = name\n",
        "        self.grades = grades\n",
        "    def average_grade(self):\n",
        "        return sum(self.grades)/len(self.grades)\n",
        "s1= Student(\"Radha\", [10, 20, 30, 40])\n",
        "print(s1.average_grade())"
      ],
      "metadata": {
        "colab": {
          "base_uri": "https://localhost:8080/"
        },
        "id": "m3LlM96MWbvM",
        "outputId": "4c349a6b-2707-4e71-f696-300b1057e737"
      },
      "execution_count": 23,
      "outputs": [
        {
          "output_type": "stream",
          "name": "stdout",
          "text": [
            "25.0\n"
          ]
        }
      ]
    },
    {
      "cell_type": "code",
      "source": [
        "#13. Create a class Rectangle with methods set_dimensions() to set the dimensions and area() to calculate the area.\n",
        "class Rectangle:\n",
        "    def __init__(self, length, width):\n",
        "        self.length = length\n",
        "        self.width = width\n",
        "    def set_dimensions(self, length, width):\n",
        "        self.length = length\n",
        "        self.width = width\n",
        "    def area(self):\n",
        "        return self.length * self.width\n",
        "r1 = Rectangle(5, 6)\n",
        "print(r1.area())\n",
        "r1.set_dimensions(7, 8)\n",
        "print(r1.area())"
      ],
      "metadata": {
        "colab": {
          "base_uri": "https://localhost:8080/"
        },
        "id": "YdtnXDlKW3Z_",
        "outputId": "7338b974-d90e-4b3c-81b3-2d624f4a7d66"
      },
      "execution_count": 24,
      "outputs": [
        {
          "output_type": "stream",
          "name": "stdout",
          "text": [
            "30\n",
            "56\n"
          ]
        }
      ]
    },
    {
      "cell_type": "code",
      "source": [
        "#14. Create a class Employee with a method calculate_salary() that computes the salary based on hours worked and hourly rate. Create a derived class Manager that adds a bonus to the salary.\n",
        "class Employee:\n",
        "    def __init__(self, name, hours_worked, hourly_rate):\n",
        "        self.name = name\n",
        "        self.hours_worked = hours_worked\n",
        "        self.hourly_rate = hourly_rate\n",
        "    def calculate_salary(self):\n",
        "        return self.hours_worked * self.hourly_rate\n",
        "class Manager(Employee):\n",
        "    def __init__(self, name, hours_worked, hourly_rate, bonus):\n",
        "        super().__init__(name, hours_worked, hourly_rate)\n",
        "        self.bonus = bonus\n",
        "    def calculate_salary(self):\n",
        "        return super().calculate_salary() + self.bonus\n",
        "e1= Employee(\"Ram\", 50, 100)\n",
        "print(e1.calculate_salary())\n",
        "m1 = Manager(\"Shyam\", 50, 100, 5000)\n",
        "print(m1.calculate_salary())"
      ],
      "metadata": {
        "colab": {
          "base_uri": "https://localhost:8080/"
        },
        "id": "jT5ERNBBXN_I",
        "outputId": "7c7568eb-2254-4cfb-9b9e-ff8046489068"
      },
      "execution_count": 25,
      "outputs": [
        {
          "output_type": "stream",
          "name": "stdout",
          "text": [
            "5000\n",
            "10000\n"
          ]
        }
      ]
    },
    {
      "cell_type": "code",
      "source": [
        "#15. Create a class Product with attributes name, price, and quantity. Implement a method total_price() that calculates the total price of the product.\n",
        "class Product:\n",
        "    def __init__(self, name, price, quantity):\n",
        "        self.name = name\n",
        "        self.price = price\n",
        "        self.quantity = quantity\n",
        "    def total_price(self):\n",
        "        return self.price * self.quantity\n",
        "\n",
        "p1= Product(\"Pen\", 10, 5)\n",
        "print(p1.total_price())"
      ],
      "metadata": {
        "colab": {
          "base_uri": "https://localhost:8080/"
        },
        "id": "QE8VyodgYKqY",
        "outputId": "43dd2ab6-19ff-4e4d-ec66-b2795385db49"
      },
      "execution_count": 27,
      "outputs": [
        {
          "output_type": "stream",
          "name": "stdout",
          "text": [
            "50\n"
          ]
        }
      ]
    },
    {
      "cell_type": "code",
      "source": [
        "#16. Create a class Animal with an abstract method sound(). Create two derived classes Cow and Sheep that implement the sound() method.\n",
        "class Animal:\n",
        "    def sound(self):\n",
        "        pass\n",
        "class Cow(Animal):\n",
        "    def sound(self):\n",
        "        print(\"Moo\")\n",
        "class Sheep(Animal):\n",
        "    def sound(self):\n",
        "        print(\"Bhee\")\n",
        "a1= Animal()\n",
        "c1 = Cow()\n",
        "s1 = Sheep()\n",
        "a1.sound()\n",
        "c1.sound()\n",
        "s1.sound()"
      ],
      "metadata": {
        "colab": {
          "base_uri": "https://localhost:8080/"
        },
        "id": "uLoJSV_gYhSy",
        "outputId": "4f0842d4-9712-4274-8a66-37cf33611c2f"
      },
      "execution_count": 28,
      "outputs": [
        {
          "output_type": "stream",
          "name": "stdout",
          "text": [
            "Moo\n",
            "Bhee\n"
          ]
        }
      ]
    },
    {
      "cell_type": "code",
      "source": [
        "#17. Create a class Book with attributes title, author, and year_published. Add a method get_book_info() that returns a formatted string with the book's details.\n",
        "class Book:\n",
        "    def __init__(self, title, author, year_published):\n",
        "        self.title = title\n",
        "        self.author = author\n",
        "        self.year_published = year_published\n",
        "\n",
        "    def get_book_info(self):\n",
        "        return f\"Title: {self.title}\\nAuthor: {self.author}\\nYear Published: {self.year_published}\"\n",
        "\n",
        "b1= Book(\"wings of Fire\", \"Dr. Kalam\", 2000)\n",
        "print(b1.get_book_info())"
      ],
      "metadata": {
        "colab": {
          "base_uri": "https://localhost:8080/"
        },
        "id": "njIBjwfGY8bk",
        "outputId": "cead24a1-d519-4b0f-ac6d-ce98b81ca942"
      },
      "execution_count": 30,
      "outputs": [
        {
          "output_type": "stream",
          "name": "stdout",
          "text": [
            "Title: wings of Fire\n",
            "Author: Dr. Kalam\n",
            "Year Published: 2000\n"
          ]
        }
      ]
    },
    {
      "cell_type": "code",
      "source": [
        "#18. Create a class House with attributes address and price. Create a derived class Mansion that adds an attribute number_of_rooms.\n",
        "class House:\n",
        "    def __init__(self, address, price):\n",
        "        self.address = address\n",
        "        self.price = price\n",
        "class Mansion(House):\n",
        "    def __init__(self, address, price, number_of_rooms):\n",
        "        super().__init__(address, price)\n",
        "        self.number_of_rooms = number_of_rooms\n",
        "h1= House( \"Nagpur\",1000000)\n",
        "print(h1.address, h1.price)\n",
        "m1 = Mansion(\"Nagpur\",1000000, 10)\n",
        "print(m1.address, m1.price, m1.number_of_rooms)\n",
        ""
      ],
      "metadata": {
        "colab": {
          "base_uri": "https://localhost:8080/"
        },
        "id": "HBigZ-1RZkaD",
        "outputId": "b83a42a6-96d3-461e-af2c-f95bc2e07bbd"
      },
      "execution_count": 33,
      "outputs": [
        {
          "output_type": "stream",
          "name": "stdout",
          "text": [
            "Nagpur 1000000\n",
            "Nagpur 1000000 10\n"
          ]
        }
      ]
    }
  ]
}